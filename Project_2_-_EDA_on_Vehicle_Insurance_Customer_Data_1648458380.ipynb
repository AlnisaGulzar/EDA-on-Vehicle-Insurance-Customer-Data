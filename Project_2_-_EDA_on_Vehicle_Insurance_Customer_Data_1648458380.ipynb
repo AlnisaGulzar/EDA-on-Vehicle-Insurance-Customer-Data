{
 "cells": [
  {
   "cell_type": "code",
   "execution_count": 20,
   "id": "38dc304c",
   "metadata": {},
   "outputs": [
    {
     "name": "stdout",
     "output_type": "stream",
     "text": [
      "     0       1     2    3     4    5          6    7\n",
      "0  1.0    Male  44.0  1.0  28.0  0.0  > 2 Years  Yes\n",
      "1  2.0    Male  76.0  1.0   3.0  0.0   1-2 Year   No\n",
      "2  3.0    Male  47.0  1.0  28.0  0.0  > 2 Years  Yes\n",
      "3  4.0    Male  21.0  1.0  11.0  1.0   < 1 Year   No\n",
      "4  5.0  Female  29.0  1.0  41.0  1.0   < 1 Year   No\n",
      "     0        1      2      3    4\n",
      "0  1.0  40454.0   26.0  217.0  1.0\n",
      "1  2.0  33536.0   26.0  183.0  0.0\n",
      "2  3.0  38294.0   26.0   27.0  1.0\n",
      "3  4.0  28619.0  152.0  203.0  0.0\n",
      "4  5.0  27496.0  152.0   39.0  0.0\n"
     ]
    }
   ],
   "source": [
    "# STEP 1:\n",
    "\n",
    "import pandas as pd\n",
    "table1 = pd.read_csv(\"customer_details.csv\")\n",
    "table2 = pd.read_csv(\"customer_policy_details.csv\")\n",
    "\n",
    "print(table1.head())\n",
    "print(table2.head())"
   ]
  },
  {
   "cell_type": "code",
   "execution_count": 21,
   "id": "ee5696ba",
   "metadata": {},
   "outputs": [],
   "source": [
    "# STEP 2 Checking and cleaning the data\n"
   ]
  },
  {
   "cell_type": "code",
   "execution_count": 22,
   "id": "a87ef68c",
   "metadata": {},
   "outputs": [],
   "source": [
    "# Table 1\n",
    "\n",
    "table1_labels = {'0':'customer_id','1':'gender','2':'age','3':'driving_licence','4':'region_code',\n",
    "               '5':'previously_insured','6':'vechile_age','7':'vehicle_damage',}"
   ]
  },
  {
   "cell_type": "code",
   "execution_count": 23,
   "id": "dfcce0f5",
   "metadata": {},
   "outputs": [
    {
     "name": "stdout",
     "output_type": "stream",
     "text": [
      "number of cells of customer_idwith null values=386\n",
      "number of cells of genderwith null values=368\n",
      "number of cells of agewith null values=368\n",
      "number of cells of driving_licencewith null values=393\n",
      "number of cells of region_codewith null values=392\n",
      "number of cells of previously_insuredwith null values=381\n",
      "number of cells of vechile_agewith null values=381\n",
      "number of cells of vehicle_damagewith null values=407\n"
     ]
    }
   ],
   "source": [
    "# counting the null values of each column of table1\n",
    "\n",
    "for i in range(table1.shape[1]):\n",
    "    print(f\"number of cells of {table1_labels[str(i)]}with null values={table1[str(i)].isnull().sum()}\")"
   ]
  },
  {
   "cell_type": "code",
   "execution_count": 24,
   "id": "631e91a1",
   "metadata": {},
   "outputs": [
    {
     "name": "stdout",
     "output_type": "stream",
     "text": [
      "<class 'pandas.core.frame.DataFrame'>\n",
      "RangeIndex: 381109 entries, 0 to 381108\n",
      "Data columns (total 8 columns):\n",
      " #   Column  Non-Null Count   Dtype  \n",
      "---  ------  --------------   -----  \n",
      " 0   0       380723 non-null  float64\n",
      " 1   1       380741 non-null  object \n",
      " 2   2       380741 non-null  float64\n",
      " 3   3       380716 non-null  float64\n",
      " 4   4       380717 non-null  float64\n",
      " 5   5       380728 non-null  float64\n",
      " 6   6       380728 non-null  object \n",
      " 7   7       380702 non-null  object \n",
      "dtypes: float64(5), object(3)\n",
      "memory usage: 23.3+ MB\n"
     ]
    }
   ],
   "source": [
    "table1.info()"
   ]
  },
  {
   "cell_type": "code",
   "execution_count": 25,
   "id": "d005c4f4",
   "metadata": {
    "scrolled": true
   },
   "outputs": [
    {
     "name": "stdout",
     "output_type": "stream",
     "text": [
      "number of cells of customer_idwith null values=0\n"
     ]
    }
   ],
   "source": [
    "# dropping rows with null customer_id of table1\n",
    "\n",
    "table1.dropna(subset=['0'],inplace=True)\n",
    "print(f\"number of cells of {table1_labels[str(0)]}with null values={table1[str(0)].isnull().sum()}\")"
   ]
  },
  {
   "cell_type": "code",
   "execution_count": 26,
   "id": "9e72ca5b",
   "metadata": {},
   "outputs": [
    {
     "name": "stdout",
     "output_type": "stream",
     "text": [
      "number of cells of genderwith null values=0\n",
      "number of cells of vechile_agewith null values=0\n",
      "number of cells of vehicle_damagewith null values=0\n"
     ]
    }
   ],
   "source": [
    "# replacing all null values for Categorical value by mode of table1\n",
    "\n",
    "for i in [1,6,7]:\n",
    "    table1[str(i)].fillna(table1[str(i)].mode()[0],inplace=True)\n",
    "    print(f\"number of cells of {table1_labels[str(i)]}with null values={table1[str(i)].isnull().sum()}\")\n",
    "    \n",
    "    "
   ]
  },
  {
   "cell_type": "code",
   "execution_count": 27,
   "id": "a0e66470",
   "metadata": {},
   "outputs": [],
   "source": [
    "# Table 2\n",
    "\n",
    "table2_labels={'0':'customer_id','1':'annual_premium','2':'sales_channel_code','3':'vintage','4':'response'}"
   ]
  },
  {
   "cell_type": "code",
   "execution_count": 28,
   "id": "5a725f18",
   "metadata": {},
   "outputs": [
    {
     "name": "stdout",
     "output_type": "stream",
     "text": [
      "number of cells of customer_id with null values is387\n",
      "number of cells of annual_premium with null values is346\n",
      "number of cells of sales_channel_code with null values is400\n",
      "number of cells of vintage with null values is388\n",
      "number of cells of response with null values is361\n"
     ]
    }
   ],
   "source": [
    "# Counting the null values of each column of table2\n",
    "\n",
    "for i in range(table2.shape[1]):\n",
    "    print(f\"number of cells of {table2_labels[str(i)]} with null values is{table2[str(i)].isnull().sum()}\")"
   ]
  },
  {
   "cell_type": "code",
   "execution_count": 29,
   "id": "dbdf1cc4",
   "metadata": {},
   "outputs": [
    {
     "name": "stdout",
     "output_type": "stream",
     "text": [
      "<class 'pandas.core.frame.DataFrame'>\n",
      "RangeIndex: 381109 entries, 0 to 381108\n",
      "Data columns (total 5 columns):\n",
      " #   Column  Non-Null Count   Dtype  \n",
      "---  ------  --------------   -----  \n",
      " 0   0       380722 non-null  float64\n",
      " 1   1       380763 non-null  float64\n",
      " 2   2       380709 non-null  float64\n",
      " 3   3       380721 non-null  float64\n",
      " 4   4       380748 non-null  float64\n",
      "dtypes: float64(5)\n",
      "memory usage: 14.5 MB\n"
     ]
    }
   ],
   "source": [
    "table2.info() "
   ]
  },
  {
   "cell_type": "code",
   "execution_count": 30,
   "id": "3e3aa8bb",
   "metadata": {},
   "outputs": [
    {
     "name": "stdout",
     "output_type": "stream",
     "text": [
      "number of cells of customer_id with null values=0\n"
     ]
    }
   ],
   "source": [
    "# dropping rows with null customer_id table2\n",
    "table2.dropna(subset=['0'],inplace=True)\n",
    "print(f\"number of cells of {table1_labels[str(0)]} with null values={table2[str(0)].isnull().sum()}\")\n"
   ]
  },
  {
   "cell_type": "code",
   "execution_count": 31,
   "id": "89957ee6",
   "metadata": {},
   "outputs": [
    {
     "name": "stdout",
     "output_type": "stream",
     "text": [
      "number of cells of annual_premium with null values=0\n",
      "number of cells of sales_channel_code with null values=0\n",
      "number of cells of vintage with null values=0\n",
      "number of cells of response with null values=0\n"
     ]
    }
   ],
   "source": [
    "# replacing all null values for numeric columns by mean of table2\n",
    "for i in range(1,5):\n",
    "    table2[str(i)].fillna(table2[str(i)].mean(),inplace=True)\n",
    "    print(f\"number of cells of {table2_labels[str(i)]} with null values={table2[str(i)].isnull().sum()}\")\n",
    "    "
   ]
  },
  {
   "cell_type": "code",
   "execution_count": 32,
   "id": "c00d9840",
   "metadata": {},
   "outputs": [],
   "source": [
    "# Outliers\n",
    "\n",
    "# Table1"
   ]
  },
  {
   "cell_type": "code",
   "execution_count": 33,
   "id": "5cab629e",
   "metadata": {},
   "outputs": [
    {
     "data": {
      "text/plain": [
       "{'2': (-11.0, 85.0), '3': (1.0, 1.0), '4': (-15.0, 65.0), '5': (-1.5, 2.5)}"
      ]
     },
     "execution_count": 33,
     "metadata": {},
     "output_type": "execute_result"
    }
   ],
   "source": [
    "table1_limits={}\n",
    "for i in range(2,6):\n",
    "    computations= table1[str(i)].describe(percentiles=[.25,.75])\n",
    "    mean = computations.values[1]\n",
    "    Q1 = computations.values[4] #25%\n",
    "    Q3 = computations.values[6] #75%\n",
    "    IQR = Q3-Q1\n",
    "    ll = Q1 - 1.5*IQR #lower limit\n",
    "    hl = Q3+1.5*IQR #higher limit\n",
    "    table1_limits[str(i)]=(ll,hl)\n",
    "table1_limits   "
   ]
  },
  {
   "cell_type": "code",
   "execution_count": 34,
   "id": "5adcd02c",
   "metadata": {},
   "outputs": [
    {
     "data": {
      "text/plain": [
       "{'2': 0, '3': 0, '4': 0, '5': 0}"
      ]
     },
     "execution_count": 34,
     "metadata": {},
     "output_type": "execute_result"
    }
   ],
   "source": [
    "# generating a summary of count of all the Outliers column wise of table1(only for numeric columns)\n",
    "\n",
    "table1_outliers = {'2':0,'3':0,'4':0,'5':0}\n",
    "\n",
    "\n",
    "\n",
    "for j in table1.index:\n",
    "    for i in range(2,6):\n",
    "        if(table1_limits[str(i)][0]!=table1_limits[str(i)][1])and (table1.loc[j,str(i)]>table1_limits[str(i)][1] or \n",
    "table1.loc[j,str(i)]<table1_limits[str(i)][0]):\n",
    "            table1_outliers[str(i)]+=1\n",
    "        \n",
    "table1_outliers        \n",
    "    "
   ]
  },
  {
   "cell_type": "code",
   "execution_count": 35,
   "id": "dff036d4",
   "metadata": {},
   "outputs": [],
   "source": [
    "# Replace all outlier values for numeric columns by mean for table 1\n",
    "\n",
    "for j in table1.index:\n",
    "    for i in range(2,6):\n",
    "        if table1.loc[j,str(i)]<table1_limits[str(i)][0]:\n",
    "            \n",
    "            table1.loc[j,str(i)]=table1[str(i)].mean()\n",
    "            \n",
    "        if table1.loc[j,str(i)] > table1_limits [str(i)][1]:\n",
    "            \n",
    "            table1.loc[j,str(i)] == table1[str(i)].mean()\n",
    "            "
   ]
  },
  {
   "cell_type": "code",
   "execution_count": 36,
   "id": "c8cb2c1d",
   "metadata": {},
   "outputs": [
    {
     "data": {
      "text/plain": [
       "{'1': (1952.375, 61855.375),\n",
       " '2': (-155.5, 336.5),\n",
       " '3': (-135.5, 444.5),\n",
       " '4': (0.0, 0.0)}"
      ]
     },
     "execution_count": 36,
     "metadata": {},
     "output_type": "execute_result"
    }
   ],
   "source": [
    "# Table2\n",
    "table2_limits={}\n",
    "\n",
    "\n",
    "for i in range(1,5):\n",
    "    computations= table2[str(i)].describe(percentiles=[.25,.75])\n",
    "    mean = computations.values[1]\n",
    "    Q1 = computations.values[4] #25%\n",
    "    Q3 = computations.values[6] #75%\n",
    "    IQR = Q3-Q1\n",
    "    ll = Q1 - 1.5*IQR #lower limit\n",
    "    hl = Q3+1.5*IQR #higher limit\n",
    "    table2_limits[str(i)]=(ll,hl)\n",
    "table2_limits   \n",
    "    "
   ]
  },
  {
   "cell_type": "code",
   "execution_count": 37,
   "id": "2a011e6c",
   "metadata": {},
   "outputs": [
    {
     "ename": "KeyError",
     "evalue": "'1'",
     "output_type": "error",
     "traceback": [
      "\u001b[1;31m---------------------------------------------------------------------------\u001b[0m",
      "\u001b[1;31mKeyError\u001b[0m                                  Traceback (most recent call last)",
      "\u001b[1;32m~\\AppData\\Local\\Temp/ipykernel_3108/3166823050.py\u001b[0m in \u001b[0;36m<module>\u001b[1;34m\u001b[0m\n\u001b[0;32m      9\u001b[0m         if(table2_limits[str(i)][0]!=table2_limits[str(i)][1])and (table2.loc[j,str(i)]>table2_limits[str(i)][1] or \n\u001b[0;32m     10\u001b[0m table2.loc[j,str(i)]<table2_limits[str(i)][0]):\n\u001b[1;32m---> 11\u001b[1;33m             \u001b[0mtable2_outliers\u001b[0m\u001b[1;33m[\u001b[0m\u001b[0mstr\u001b[0m\u001b[1;33m(\u001b[0m\u001b[0mi\u001b[0m\u001b[1;33m)\u001b[0m\u001b[1;33m]\u001b[0m \u001b[1;33m+=\u001b[0m \u001b[1;36m1\u001b[0m\u001b[1;33m\u001b[0m\u001b[1;33m\u001b[0m\u001b[0m\n\u001b[0m\u001b[0;32m     12\u001b[0m \u001b[1;33m\u001b[0m\u001b[0m\n\u001b[0;32m     13\u001b[0m \u001b[0mtable2_outliers\u001b[0m\u001b[1;33m\u001b[0m\u001b[1;33m\u001b[0m\u001b[0m\n",
      "\u001b[1;31mKeyError\u001b[0m: '1'"
     ]
    }
   ],
   "source": [
    "# generating a summary of count of all the Outliers column wise of table1(only for numeric columns)\n",
    "\n",
    "table2_outliers = {'2':0,'3':0,'4':0,'5':0}\n",
    "\n",
    "\n",
    "\n",
    "for j in table2.index:\n",
    "    for i in range(1,5):\n",
    "        if(table2_limits[str(i)][0]!=table2_limits[str(i)][1])and (table2.loc[j,str(i)]>table2_limits[str(i)][1] or \n",
    "table2.loc[j,str(i)]<table2_limits[str(i)][0]):\n",
    "            table2_outliers[str(i)] += 1\n",
    "        \n",
    "table2_outliers        \n",
    "    \n",
    "\n"
   ]
  },
  {
   "cell_type": "code",
   "execution_count": null,
   "id": "807ab3ab",
   "metadata": {},
   "outputs": [],
   "source": [
    "\n",
    "# Replace all outlier values for numeric columns by mean for table 1\n",
    "\n",
    "for j in table2.index:\n",
    "    for i in range(1,5):\n",
    "        if table2.loc[j,str(i)] < table2_limits[str(i)][0]:\n",
    "            table2.loc[j,str(i)] = table2_limits[str(i)].mean()\n",
    "        if table2.loc[j,str(i)] > table1_limits[str(i)][1]:\n",
    "            table2.loc[j,str(i)] = table1_limits[str(i)].mean()\n",
    "           \n",
    "           "
   ]
  },
  {
   "cell_type": "code",
   "execution_count": null,
   "id": "513361ed",
   "metadata": {},
   "outputs": [],
   "source": [
    "# Remove white spaces table1\n",
    "table1.apply(lambda x:x.str.strip() if x.dtype==\"object\" else x )"
   ]
  },
  {
   "cell_type": "code",
   "execution_count": null,
   "id": "d2784408",
   "metadata": {},
   "outputs": [],
   "source": [
    "# Remove white spaces table2\n",
    "table2.apply(lambda x:x.str.strip() if x.dtype==\"object\" else x )"
   ]
  },
  {
   "cell_type": "code",
   "execution_count": null,
   "id": "9fee3372",
   "metadata": {},
   "outputs": [],
   "source": [
    "# case correction(lower or upper, any one) table 1\n",
    "\n",
    "table1.apply(lambda x : x.str.lower() if x.dtype == \"object\" else x)"
   ]
  },
  {
   "cell_type": "code",
   "execution_count": null,
   "id": "fb419827",
   "metadata": {},
   "outputs": [],
   "source": [
    "# case correction(lower or upper, any one) table 2\n",
    "\n",
    "table2.apply(lambda x : x.str.lower() if x.dtype == \"object\" else x)"
   ]
  },
  {
   "cell_type": "code",
   "execution_count": null,
   "id": "1fe30d60",
   "metadata": {},
   "outputs": [],
   "source": [
    "# Convert nominal data (categorical) into dummies \n",
    "\n",
    "#for future modeling use if required\n",
    "\n",
    "dummy=pd.get_dummies(table1, columns=['gender']) # my column type into a dummy variable\n",
    "dummy.head()\n"
   ]
  },
  {
   "cell_type": "code",
   "execution_count": null,
   "id": "e5127f61",
   "metadata": {},
   "outputs": [],
   "source": [
    "# Drop Duplicates (duplicated rows table1\n",
    "\n",
    "table1.drop_duplicate(inplace = True)"
   ]
  },
  {
   "cell_type": "code",
   "execution_count": null,
   "id": "80ad9bb2",
   "metadata": {},
   "outputs": [],
   "source": [
    "# Drop Duplicates (duplicated rows) table2\n",
    "\n",
    "table2.drop_duplicate(inplace = True)"
   ]
  },
  {
   "cell_type": "code",
   "execution_count": null,
   "id": "d77bd971",
   "metadata": {},
   "outputs": [],
   "source": [
    "# 3. Create a Master table for future use. Join the customer table and \n",
    "#customer_policy table to get a master table using customer_id in both tables.\n",
    "\n",
    "data = pd.merge(table1,table2,on = '0',)\n",
    "labels = {'0':'customer_id','1_x':'gender','2_x':'age','3_x':'driving_licence','4_x':'region_code',\n",
    "               '5':'previously_insured','6':'vechile_age','7':'vehicle_damage',\n",
    "          '1_y':'annual_premium','2_y':'sales_channel_code','3_y':'vintage','4_y':'response'}\n",
    "data.rename(columns=labels,inplace=True)\n",
    "data"
   ]
  },
  {
   "cell_type": "code",
   "execution_count": null,
   "id": "6616aeff",
   "metadata": {},
   "outputs": [],
   "source": [
    "# 4 getting info\n",
    "# Gender wise average annual premium\n",
    "data.groupby('gender')['annual_premium'].mean()"
   ]
  },
  {
   "cell_type": "code",
   "execution_count": null,
   "id": "dd3a1e94",
   "metadata": {},
   "outputs": [],
   "source": [
    "# Age wise average annual premium\n",
    "result4_2 = data.groupby('age')['annual_premium'].mean()\n",
    "import matplotlib.pyplot as pyplot\n",
    "result4_2.plot()\n",
    "pyplot.show()\n",
    "\n",
    "\n"
   ]
  },
  {
   "cell_type": "code",
   "execution_count": null,
   "id": "91925ddf",
   "metadata": {},
   "outputs": [],
   "source": [
    "# Is your data balanced between genders?\n",
    "print(f\"male to female ration is{round(data['gender'].value_counts()[0]/data['gender'].value_counts()[1],2)}\")\n",
    "\n",
    "print(f\"generally, the standard is: n balanced data ratio:{50/50} n slightly balanced data ratio:{round(55/45,2)}-{60/40} n imbalanced data ratio:{80/20}-{90/10}\")\n"
   ]
  },
  {
   "cell_type": "code",
   "execution_count": null,
   "id": "86f0fdde",
   "metadata": {},
   "outputs": [],
   "source": [
    "# iv. Vehicle age wise average annual premium.\n",
    "result4_2 = data.groupby('vechile_age')['annual_premium'].mean()\n",
    "import matplotlib.pyplot as pyplot\n",
    "result4_2.plot()\n",
    "pyplot.show()"
   ]
  },
  {
   "cell_type": "code",
   "execution_count": null,
   "id": "9c091aaf",
   "metadata": {},
   "outputs": [],
   "source": [
    "#  5. Is there any relation between Person Age and annual premium?\n",
    "n = data['age'].corr(data['annual_premium'])\n",
    "if n< -0.5:\n",
    "    print('Strong negative relationship')\n",
    "if n > 0.5:\n",
    "    print('Strong positive relationship')\n",
    "if n > -0.5 and n<0.5:\n",
    "    print(\"There is no relationship\")\n",
    "\n",
    "    \n"
   ]
  }
 ],
 "metadata": {
  "kernelspec": {
   "display_name": "Python 3 (ipykernel)",
   "language": "python",
   "name": "python3"
  },
  "language_info": {
   "codemirror_mode": {
    "name": "ipython",
    "version": 3
   },
   "file_extension": ".py",
   "mimetype": "text/x-python",
   "name": "python",
   "nbconvert_exporter": "python",
   "pygments_lexer": "ipython3",
   "version": "3.9.7"
  }
 },
 "nbformat": 4,
 "nbformat_minor": 5
}
